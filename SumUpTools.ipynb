{
 "cells": [
  {
   "cell_type": "code",
   "execution_count": null,
   "metadata": {},
   "outputs": [],
   "source": [
    "#import python packages\n",
    "import numpy as np\n",
    "import scipy as sp\n",
    "import matplotlib.pyplot as plt\n",
    "import pandas as pd\n",
    "import seaborn as sns\n",
    "import matplotlib as mpl\n",
    "\n",
    "# monkey with plotting parameters\n",
    "sb=True\n",
    "if sb:\n",
    "    sns.set()\n",
    "    sns.set_context('paper', font_scale=2.0, rc={\"lines.linewidth\": 1.5})\n",
    "#     sns.set_context(\"notebook\", font_scale=1.5, rc={\"lines.linewidth\": 2.5})\n",
    "    sns.set_style(\"whitegrid\",{\"xtick.top\":True, \"xtick.bottom\":True,\"ytick.left\":True, \"ytick.right\":True})\n",
    "# fontsz = 20\n",
    "pd.set_option('display.max_rows', 500)\n",
    "mpl.rcParams['axes.formatter.useoffset'] = False\n",
    "mpl.rcParams.update({'figure.autolayout': True})\n",
    "# plt.rcParams.update({'font.size':fontsz})"
   ]
  },
  {
   "cell_type": "code",
   "execution_count": null,
   "metadata": {},
   "outputs": [],
   "source": [
    "### Load the data.\n",
    "### There are two pickles, each containing a pandas dataframe with the core data.\n",
    "dfg = pd.read_pickle('sumup_greenland.pkl')\n",
    "dfa = pd.read_pickle('sumup_antarctica.pkl')"
   ]
  },
  {
   "cell_type": "markdown",
   "metadata": {},
   "source": [
    "I just put in a bunch of sample cells of how to query the data frames to get something useful out of them."
   ]
  },
  {
   "cell_type": "code",
   "execution_count": null,
   "metadata": {
    "scrolled": true
   },
   "outputs": [],
   "source": [
    "# Get the data for the core with coreid = 1\n",
    "dfa.loc[1]"
   ]
  },
  {
   "cell_type": "code",
   "execution_count": null,
   "metadata": {},
   "outputs": [],
   "source": [
    "# Write the data from a particular core to a .csv file\n",
    "dfa.loc[1].to_csv('core1.csv')"
   ]
  },
  {
   "cell_type": "code",
   "execution_count": null,
   "metadata": {},
   "outputs": [],
   "source": [
    "#plot the data for a paticular core\n",
    "saveformat = '.eps'\n",
    "core_number = 936\n",
    "\n",
    "coredf = dfa.loc[core_number].copy()\n",
    "f1,a1 = plt.subplots(figsize=(10,8))\n",
    "a1.plot(coredf.density,coredf.mid)\n",
    "a1.invert_yaxis()\n",
    "a1.grid(True)\n",
    "a1.set_ylabel('Depth (m)')\n",
    "a1.set_xlabel(r'Density (kg m$^{-3}$)')\n",
    "a1.set_title('Firn density at {} on {}'.format(str(coredf.latlon[0]),coredf.index.get_level_values('date')[0]))\n",
    "f1.savefig('SumUp_core{}{}'.format(core_number,saveformat))"
   ]
  },
  {
   "cell_type": "code",
   "execution_count": null,
   "metadata": {
    "scrolled": true
   },
   "outputs": [],
   "source": [
    "# Get the cores with cite = 1 (there are several cores with this citation)\n",
    "dfa.xs(1,level='cite')"
   ]
  },
  {
   "cell_type": "code",
   "execution_count": null,
   "metadata": {
    "scrolled": true
   },
   "outputs": [],
   "source": [
    "# Sample the Antarctic dataframe for cores from above 2000 m elevation\n",
    "dfa[dfa.elev>2000]"
   ]
  },
  {
   "cell_type": "code",
   "execution_count": null,
   "metadata": {
    "scrolled": true
   },
   "outputs": [],
   "source": [
    "# get the coreids for all cores in Antarctica from greater than 2000 m\n",
    "dfa[dfa.elev>2000].index.get_level_values('coreid').unique().values"
   ]
  },
  {
   "cell_type": "code",
   "execution_count": null,
   "metadata": {},
   "outputs": [],
   "source": [
    "# Create a new dataframe of cores close to Summit, Greenland,  72.57972, -38.50454 \n",
    "df_Summit = dfg[(dfg.index.get_level_values('lat')>72.0) & (dfg.index.get_level_values('lat')<73.0) & (dfg.index.get_level_values('lon')<-38.0) & (dfg.index.get_level_values('lon')>-39.0)].copy()      "
   ]
  },
  {
   "cell_type": "code",
   "execution_count": null,
   "metadata": {
    "scrolled": true
   },
   "outputs": [],
   "source": [
    "# There are 171 unique cores from Summit.\n",
    "df_Summit.index.get_level_values('coreid').unique()"
   ]
  },
  {
   "cell_type": "code",
   "execution_count": null,
   "metadata": {},
   "outputs": [],
   "source": [
    "#But only one that is deeper than 30 m.\n",
    "df_Summit[df_Summit.maxdepth>30]"
   ]
  }
 ],
 "metadata": {
  "kernelspec": {
   "display_name": "Python 3",
   "language": "python",
   "name": "python3"
  },
  "language_info": {
   "codemirror_mode": {
    "name": "ipython",
    "version": 3
   },
   "file_extension": ".py",
   "mimetype": "text/x-python",
   "name": "python",
   "nbconvert_exporter": "python",
   "pygments_lexer": "ipython3",
   "version": "3.7.3"
  }
 },
 "nbformat": 4,
 "nbformat_minor": 2
}
